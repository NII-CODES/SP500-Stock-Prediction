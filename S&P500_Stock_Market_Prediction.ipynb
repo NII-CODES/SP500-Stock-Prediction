{
  "nbformat": 4,
  "nbformat_minor": 0,
  "metadata": {
    "colab": {
      "provenance": [],
      "authorship_tag": "ABX9TyNzgKxv6M0C/US54UfxipaG",
      "include_colab_link": true
    },
    "kernelspec": {
      "name": "python3",
      "display_name": "Python 3"
    },
    "language_info": {
      "name": "python"
    }
  },
  "cells": [
    {
      "cell_type": "markdown",
      "metadata": {
        "id": "view-in-github",
        "colab_type": "text"
      },
      "source": [
        "<a href=\"https://colab.research.google.com/github/NII-CODES/SP500-Stock-Prediction/blob/main/S%26P500_Stock_Market_Prediction.ipynb\" target=\"_parent\"><img src=\"https://colab.research.google.com/assets/colab-badge.svg\" alt=\"Open In Colab\"/></a>"
      ]
    },
    {
      "cell_type": "markdown",
      "source": [
        "Installed yfinance first since its not available in google colab to download stock data \n"
      ],
      "metadata": {
        "id": "2yeu-l1USrmT"
      }
    },
    {
      "cell_type": "code",
      "source": [
        "!pip install yfinance\n",
        "import yfinance as yf\n"
      ],
      "metadata": {
        "colab": {
          "base_uri": "https://localhost:8080/"
        },
        "id": "Om_1CeV5SUy6",
        "outputId": "cc47b43d-e3fe-4e1e-93d4-f03fff430d11"
      },
      "execution_count": 1,
      "outputs": [
        {
          "output_type": "stream",
          "name": "stdout",
          "text": [
            "Looking in indexes: https://pypi.org/simple, https://us-python.pkg.dev/colab-wheels/public/simple/\n",
            "Requirement already satisfied: yfinance in /usr/local/lib/python3.7/dist-packages (0.1.85)\n",
            "Requirement already satisfied: numpy>=1.15 in /usr/local/lib/python3.7/dist-packages (from yfinance) (1.21.6)\n",
            "Requirement already satisfied: multitasking>=0.0.7 in /usr/local/lib/python3.7/dist-packages (from yfinance) (0.0.11)\n",
            "Requirement already satisfied: pandas>=0.24.0 in /usr/local/lib/python3.7/dist-packages (from yfinance) (1.3.5)\n",
            "Requirement already satisfied: requests>=2.26 in /usr/local/lib/python3.7/dist-packages (from yfinance) (2.28.1)\n",
            "Requirement already satisfied: lxml>=4.5.1 in /usr/local/lib/python3.7/dist-packages (from yfinance) (4.9.1)\n",
            "Requirement already satisfied: appdirs>=1.4.4 in /usr/local/lib/python3.7/dist-packages (from yfinance) (1.4.4)\n",
            "Requirement already satisfied: python-dateutil>=2.7.3 in /usr/local/lib/python3.7/dist-packages (from pandas>=0.24.0->yfinance) (2.8.2)\n",
            "Requirement already satisfied: pytz>=2017.3 in /usr/local/lib/python3.7/dist-packages (from pandas>=0.24.0->yfinance) (2022.5)\n",
            "Requirement already satisfied: six>=1.5 in /usr/local/lib/python3.7/dist-packages (from python-dateutil>=2.7.3->pandas>=0.24.0->yfinance) (1.15.0)\n",
            "Requirement already satisfied: urllib3<1.27,>=1.21.1 in /usr/local/lib/python3.7/dist-packages (from requests>=2.26->yfinance) (1.24.3)\n",
            "Requirement already satisfied: certifi>=2017.4.17 in /usr/local/lib/python3.7/dist-packages (from requests>=2.26->yfinance) (2022.9.24)\n",
            "Requirement already satisfied: charset-normalizer<3,>=2 in /usr/local/lib/python3.7/dist-packages (from requests>=2.26->yfinance) (2.1.1)\n",
            "Requirement already satisfied: idna<4,>=2.5 in /usr/local/lib/python3.7/dist-packages (from requests>=2.26->yfinance) (2.10)\n"
          ]
        }
      ]
    },
    {
      "cell_type": "markdown",
      "source": [
        "Enables the ticker class"
      ],
      "metadata": {
        "id": "sGUWr8reV60k"
      }
    },
    {
      "cell_type": "code",
      "source": [
        "sp500 = yf.Ticker(\"^GSPC\")"
      ],
      "metadata": {
        "id": "Ux0Kl12gS_GL"
      },
      "execution_count": 2,
      "outputs": []
    },
    {
      "cell_type": "markdown",
      "source": [
        "Using the history method to get all data on sp500 up to date"
      ],
      "metadata": {
        "id": "YMkYp_gcS-ua"
      }
    },
    {
      "cell_type": "code",
      "source": [
        "sp500 = sp500.history(period = \"max\")"
      ],
      "metadata": {
        "id": "aZsX_AHhWDKW"
      },
      "execution_count": 3,
      "outputs": []
    },
    {
      "cell_type": "code",
      "source": [
        "sp500"
      ],
      "metadata": {
        "colab": {
          "base_uri": "https://localhost:8080/",
          "height": 455
        },
        "id": "wI3N_yj7Wqs5",
        "outputId": "4b78154d-9696-493a-b74f-83227e5b5213"
      },
      "execution_count": 4,
      "outputs": [
        {
          "output_type": "execute_result",
          "data": {
            "text/plain": [
              "                                  Open         High          Low        Close  \\\n",
              "Date                                                                            \n",
              "1950-01-03 00:00:00-05:00    16.660000    16.660000    16.660000    16.660000   \n",
              "1950-01-04 00:00:00-05:00    16.850000    16.850000    16.850000    16.850000   \n",
              "1950-01-05 00:00:00-05:00    16.930000    16.930000    16.930000    16.930000   \n",
              "1950-01-06 00:00:00-05:00    16.980000    16.980000    16.980000    16.980000   \n",
              "1950-01-09 00:00:00-05:00    17.080000    17.080000    17.080000    17.080000   \n",
              "...                                ...          ...          ...          ...   \n",
              "2022-11-01 00:00:00-04:00  3901.790039  3911.790039  3843.800049  3856.100098   \n",
              "2022-11-02 00:00:00-04:00  3852.899902  3894.439941  3758.679932  3759.689941   \n",
              "2022-11-03 00:00:00-04:00  3733.250000  3750.590088  3698.149902  3719.889893   \n",
              "2022-11-04 00:00:00-04:00  3766.979980  3796.340088  3708.840088  3770.550049   \n",
              "2022-11-07 00:00:00-05:00  3780.709961  3791.520020  3764.699951  3777.459961   \n",
              "\n",
              "                               Volume  Dividends  Stock Splits  \n",
              "Date                                                            \n",
              "1950-01-03 00:00:00-05:00     1260000          0             0  \n",
              "1950-01-04 00:00:00-05:00     1890000          0             0  \n",
              "1950-01-05 00:00:00-05:00     2550000          0             0  \n",
              "1950-01-06 00:00:00-05:00     2010000          0             0  \n",
              "1950-01-09 00:00:00-05:00     2520000          0             0  \n",
              "...                               ...        ...           ...  \n",
              "2022-11-01 00:00:00-04:00  4481210000          0             0  \n",
              "2022-11-02 00:00:00-04:00  4899000000          0             0  \n",
              "2022-11-03 00:00:00-04:00  4625290000          0             0  \n",
              "2022-11-04 00:00:00-04:00           0          0             0  \n",
              "2022-11-07 00:00:00-05:00   477646529          0             0  \n",
              "\n",
              "[18332 rows x 7 columns]"
            ],
            "text/html": [
              "\n",
              "  <div id=\"df-38c1efb5-7954-4ff4-8ff6-4533795dec06\">\n",
              "    <div class=\"colab-df-container\">\n",
              "      <div>\n",
              "<style scoped>\n",
              "    .dataframe tbody tr th:only-of-type {\n",
              "        vertical-align: middle;\n",
              "    }\n",
              "\n",
              "    .dataframe tbody tr th {\n",
              "        vertical-align: top;\n",
              "    }\n",
              "\n",
              "    .dataframe thead th {\n",
              "        text-align: right;\n",
              "    }\n",
              "</style>\n",
              "<table border=\"1\" class=\"dataframe\">\n",
              "  <thead>\n",
              "    <tr style=\"text-align: right;\">\n",
              "      <th></th>\n",
              "      <th>Open</th>\n",
              "      <th>High</th>\n",
              "      <th>Low</th>\n",
              "      <th>Close</th>\n",
              "      <th>Volume</th>\n",
              "      <th>Dividends</th>\n",
              "      <th>Stock Splits</th>\n",
              "    </tr>\n",
              "    <tr>\n",
              "      <th>Date</th>\n",
              "      <th></th>\n",
              "      <th></th>\n",
              "      <th></th>\n",
              "      <th></th>\n",
              "      <th></th>\n",
              "      <th></th>\n",
              "      <th></th>\n",
              "    </tr>\n",
              "  </thead>\n",
              "  <tbody>\n",
              "    <tr>\n",
              "      <th>1950-01-03 00:00:00-05:00</th>\n",
              "      <td>16.660000</td>\n",
              "      <td>16.660000</td>\n",
              "      <td>16.660000</td>\n",
              "      <td>16.660000</td>\n",
              "      <td>1260000</td>\n",
              "      <td>0</td>\n",
              "      <td>0</td>\n",
              "    </tr>\n",
              "    <tr>\n",
              "      <th>1950-01-04 00:00:00-05:00</th>\n",
              "      <td>16.850000</td>\n",
              "      <td>16.850000</td>\n",
              "      <td>16.850000</td>\n",
              "      <td>16.850000</td>\n",
              "      <td>1890000</td>\n",
              "      <td>0</td>\n",
              "      <td>0</td>\n",
              "    </tr>\n",
              "    <tr>\n",
              "      <th>1950-01-05 00:00:00-05:00</th>\n",
              "      <td>16.930000</td>\n",
              "      <td>16.930000</td>\n",
              "      <td>16.930000</td>\n",
              "      <td>16.930000</td>\n",
              "      <td>2550000</td>\n",
              "      <td>0</td>\n",
              "      <td>0</td>\n",
              "    </tr>\n",
              "    <tr>\n",
              "      <th>1950-01-06 00:00:00-05:00</th>\n",
              "      <td>16.980000</td>\n",
              "      <td>16.980000</td>\n",
              "      <td>16.980000</td>\n",
              "      <td>16.980000</td>\n",
              "      <td>2010000</td>\n",
              "      <td>0</td>\n",
              "      <td>0</td>\n",
              "    </tr>\n",
              "    <tr>\n",
              "      <th>1950-01-09 00:00:00-05:00</th>\n",
              "      <td>17.080000</td>\n",
              "      <td>17.080000</td>\n",
              "      <td>17.080000</td>\n",
              "      <td>17.080000</td>\n",
              "      <td>2520000</td>\n",
              "      <td>0</td>\n",
              "      <td>0</td>\n",
              "    </tr>\n",
              "    <tr>\n",
              "      <th>...</th>\n",
              "      <td>...</td>\n",
              "      <td>...</td>\n",
              "      <td>...</td>\n",
              "      <td>...</td>\n",
              "      <td>...</td>\n",
              "      <td>...</td>\n",
              "      <td>...</td>\n",
              "    </tr>\n",
              "    <tr>\n",
              "      <th>2022-11-01 00:00:00-04:00</th>\n",
              "      <td>3901.790039</td>\n",
              "      <td>3911.790039</td>\n",
              "      <td>3843.800049</td>\n",
              "      <td>3856.100098</td>\n",
              "      <td>4481210000</td>\n",
              "      <td>0</td>\n",
              "      <td>0</td>\n",
              "    </tr>\n",
              "    <tr>\n",
              "      <th>2022-11-02 00:00:00-04:00</th>\n",
              "      <td>3852.899902</td>\n",
              "      <td>3894.439941</td>\n",
              "      <td>3758.679932</td>\n",
              "      <td>3759.689941</td>\n",
              "      <td>4899000000</td>\n",
              "      <td>0</td>\n",
              "      <td>0</td>\n",
              "    </tr>\n",
              "    <tr>\n",
              "      <th>2022-11-03 00:00:00-04:00</th>\n",
              "      <td>3733.250000</td>\n",
              "      <td>3750.590088</td>\n",
              "      <td>3698.149902</td>\n",
              "      <td>3719.889893</td>\n",
              "      <td>4625290000</td>\n",
              "      <td>0</td>\n",
              "      <td>0</td>\n",
              "    </tr>\n",
              "    <tr>\n",
              "      <th>2022-11-04 00:00:00-04:00</th>\n",
              "      <td>3766.979980</td>\n",
              "      <td>3796.340088</td>\n",
              "      <td>3708.840088</td>\n",
              "      <td>3770.550049</td>\n",
              "      <td>0</td>\n",
              "      <td>0</td>\n",
              "      <td>0</td>\n",
              "    </tr>\n",
              "    <tr>\n",
              "      <th>2022-11-07 00:00:00-05:00</th>\n",
              "      <td>3780.709961</td>\n",
              "      <td>3791.520020</td>\n",
              "      <td>3764.699951</td>\n",
              "      <td>3777.459961</td>\n",
              "      <td>477646529</td>\n",
              "      <td>0</td>\n",
              "      <td>0</td>\n",
              "    </tr>\n",
              "  </tbody>\n",
              "</table>\n",
              "<p>18332 rows × 7 columns</p>\n",
              "</div>\n",
              "      <button class=\"colab-df-convert\" onclick=\"convertToInteractive('df-38c1efb5-7954-4ff4-8ff6-4533795dec06')\"\n",
              "              title=\"Convert this dataframe to an interactive table.\"\n",
              "              style=\"display:none;\">\n",
              "        \n",
              "  <svg xmlns=\"http://www.w3.org/2000/svg\" height=\"24px\"viewBox=\"0 0 24 24\"\n",
              "       width=\"24px\">\n",
              "    <path d=\"M0 0h24v24H0V0z\" fill=\"none\"/>\n",
              "    <path d=\"M18.56 5.44l.94 2.06.94-2.06 2.06-.94-2.06-.94-.94-2.06-.94 2.06-2.06.94zm-11 1L8.5 8.5l.94-2.06 2.06-.94-2.06-.94L8.5 2.5l-.94 2.06-2.06.94zm10 10l.94 2.06.94-2.06 2.06-.94-2.06-.94-.94-2.06-.94 2.06-2.06.94z\"/><path d=\"M17.41 7.96l-1.37-1.37c-.4-.4-.92-.59-1.43-.59-.52 0-1.04.2-1.43.59L10.3 9.45l-7.72 7.72c-.78.78-.78 2.05 0 2.83L4 21.41c.39.39.9.59 1.41.59.51 0 1.02-.2 1.41-.59l7.78-7.78 2.81-2.81c.8-.78.8-2.07 0-2.86zM5.41 20L4 18.59l7.72-7.72 1.47 1.35L5.41 20z\"/>\n",
              "  </svg>\n",
              "      </button>\n",
              "      \n",
              "  <style>\n",
              "    .colab-df-container {\n",
              "      display:flex;\n",
              "      flex-wrap:wrap;\n",
              "      gap: 12px;\n",
              "    }\n",
              "\n",
              "    .colab-df-convert {\n",
              "      background-color: #E8F0FE;\n",
              "      border: none;\n",
              "      border-radius: 50%;\n",
              "      cursor: pointer;\n",
              "      display: none;\n",
              "      fill: #1967D2;\n",
              "      height: 32px;\n",
              "      padding: 0 0 0 0;\n",
              "      width: 32px;\n",
              "    }\n",
              "\n",
              "    .colab-df-convert:hover {\n",
              "      background-color: #E2EBFA;\n",
              "      box-shadow: 0px 1px 2px rgba(60, 64, 67, 0.3), 0px 1px 3px 1px rgba(60, 64, 67, 0.15);\n",
              "      fill: #174EA6;\n",
              "    }\n",
              "\n",
              "    [theme=dark] .colab-df-convert {\n",
              "      background-color: #3B4455;\n",
              "      fill: #D2E3FC;\n",
              "    }\n",
              "\n",
              "    [theme=dark] .colab-df-convert:hover {\n",
              "      background-color: #434B5C;\n",
              "      box-shadow: 0px 1px 3px 1px rgba(0, 0, 0, 0.15);\n",
              "      filter: drop-shadow(0px 1px 2px rgba(0, 0, 0, 0.3));\n",
              "      fill: #FFFFFF;\n",
              "    }\n",
              "  </style>\n",
              "\n",
              "      <script>\n",
              "        const buttonEl =\n",
              "          document.querySelector('#df-38c1efb5-7954-4ff4-8ff6-4533795dec06 button.colab-df-convert');\n",
              "        buttonEl.style.display =\n",
              "          google.colab.kernel.accessAllowed ? 'block' : 'none';\n",
              "\n",
              "        async function convertToInteractive(key) {\n",
              "          const element = document.querySelector('#df-38c1efb5-7954-4ff4-8ff6-4533795dec06');\n",
              "          const dataTable =\n",
              "            await google.colab.kernel.invokeFunction('convertToInteractive',\n",
              "                                                     [key], {});\n",
              "          if (!dataTable) return;\n",
              "\n",
              "          const docLinkHtml = 'Like what you see? Visit the ' +\n",
              "            '<a target=\"_blank\" href=https://colab.research.google.com/notebooks/data_table.ipynb>data table notebook</a>'\n",
              "            + ' to learn more about interactive tables.';\n",
              "          element.innerHTML = '';\n",
              "          dataTable['output_type'] = 'display_data';\n",
              "          await google.colab.output.renderOutput(dataTable, element);\n",
              "          const docLink = document.createElement('div');\n",
              "          docLink.innerHTML = docLinkHtml;\n",
              "          element.appendChild(docLink);\n",
              "        }\n",
              "      </script>\n",
              "    </div>\n",
              "  </div>\n",
              "  "
            ]
          },
          "metadata": {},
          "execution_count": 4
        }
      ]
    },
    {
      "cell_type": "markdown",
      "source": [
        "Shows the index of the SP500 dataframe"
      ],
      "metadata": {
        "id": "rvjLk823ZTKB"
      }
    },
    {
      "cell_type": "code",
      "source": [
        "sp500.index"
      ],
      "metadata": {
        "colab": {
          "base_uri": "https://localhost:8080/"
        },
        "id": "VjY42RfVZIs1",
        "outputId": "2e04e4a3-2ecf-4d5d-a9d6-13e32a5811b3"
      },
      "execution_count": 5,
      "outputs": [
        {
          "output_type": "execute_result",
          "data": {
            "text/plain": [
              "DatetimeIndex(['1950-01-03 00:00:00-05:00', '1950-01-04 00:00:00-05:00',\n",
              "               '1950-01-05 00:00:00-05:00', '1950-01-06 00:00:00-05:00',\n",
              "               '1950-01-09 00:00:00-05:00', '1950-01-10 00:00:00-05:00',\n",
              "               '1950-01-11 00:00:00-05:00', '1950-01-12 00:00:00-05:00',\n",
              "               '1950-01-13 00:00:00-05:00', '1950-01-16 00:00:00-05:00',\n",
              "               ...\n",
              "               '2022-10-25 00:00:00-04:00', '2022-10-26 00:00:00-04:00',\n",
              "               '2022-10-27 00:00:00-04:00', '2022-10-28 00:00:00-04:00',\n",
              "               '2022-10-31 00:00:00-04:00', '2022-11-01 00:00:00-04:00',\n",
              "               '2022-11-02 00:00:00-04:00', '2022-11-03 00:00:00-04:00',\n",
              "               '2022-11-04 00:00:00-04:00', '2022-11-07 00:00:00-05:00'],\n",
              "              dtype='datetime64[ns, America/New_York]', name='Date', length=18332, freq=None)"
            ]
          },
          "metadata": {},
          "execution_count": 5
        }
      ]
    },
    {
      "cell_type": "markdown",
      "source": [
        "Plots the closing price on the y-axis against the index(trading days) on the x-axis"
      ],
      "metadata": {
        "id": "amHhCMB8ZsnB"
      }
    },
    {
      "cell_type": "code",
      "source": [
        "sp500.plot.line(y=\"Close\", use_index=True)"
      ],
      "metadata": {
        "colab": {
          "base_uri": "https://localhost:8080/",
          "height": 289
        },
        "id": "d-JrALBNZawO",
        "outputId": "f3236e96-16b3-46e1-e5f0-617a5a117f10"
      },
      "execution_count": 6,
      "outputs": [
        {
          "output_type": "execute_result",
          "data": {
            "text/plain": [
              "<matplotlib.axes._subplots.AxesSubplot at 0x7fccde660790>"
            ]
          },
          "metadata": {},
          "execution_count": 6
        },
        {
          "output_type": "display_data",
          "data": {
            "text/plain": [
              "<Figure size 432x288 with 1 Axes>"
            ],
            "image/png": "[encoded data removed]"
          },
          "metadata": {
            "needs_background": "light"
          }
        }
      ]
    },
    {
      "cell_type": "markdown",
      "source": [
        "Time to clean data by removing unwanted columns (dividends, stock splits)"
      ],
      "metadata": {
        "id": "bKS-Hij9ayf4"
      }
    },
    {
      "cell_type": "code",
      "source": [
        "del sp500[\"Dividends\"]\n",
        "del sp500[\"Stock Splits\"]"
      ],
      "metadata": {
        "id": "qr6e16XEaxmm"
      },
      "execution_count": 7,
      "outputs": []
    },
    {
      "cell_type": "markdown",
      "source": [
        "Target"
      ],
      "metadata": {
        "id": "Fw4QT7vCeGuV"
      }
    },
    {
      "cell_type": "code",
      "source": [
        "sp500[\"Tomorrow\"] = sp500[\"Close\"].shift(-1)"
      ],
      "metadata": {
        "id": "d4sdmZeibaWJ"
      },
      "execution_count": 8,
      "outputs": []
    },
    {
      "cell_type": "markdown",
      "source": [
        "Set up a target which returns an integer to make it usable in a machine learning model"
      ],
      "metadata": {
        "id": "qwjBHcuvfWIg"
      }
    },
    {
      "cell_type": "code",
      "source": [
        "sp500[\"Target\"] = (sp500[\"Tomorrow\"] > sp500[\"Close\"]).astype(int)"
      ],
      "metadata": {
        "id": "rDfxXCSyeMMd"
      },
      "execution_count": 9,
      "outputs": []
    },
    {
      "cell_type": "code",
      "source": [
        "sp500"
      ],
      "metadata": {
        "colab": {
          "base_uri": "https://localhost:8080/",
          "height": 455
        },
        "id": "zx5p2q2ZgVPX",
        "outputId": "988fe7a9-542d-4459-a75d-bc478d8c074b"
      },
      "execution_count": 10,
      "outputs": [
        {
          "output_type": "execute_result",
          "data": {
            "text/plain": [
              "                                  Open         High          Low        Close  \\\n",
              "Date                                                                            \n",
              "1950-01-03 00:00:00-05:00    16.660000    16.660000    16.660000    16.660000   \n",
              "1950-01-04 00:00:00-05:00    16.850000    16.850000    16.850000    16.850000   \n",
              "1950-01-05 00:00:00-05:00    16.930000    16.930000    16.930000    16.930000   \n",
              "1950-01-06 00:00:00-05:00    16.980000    16.980000    16.980000    16.980000   \n",
              "1950-01-09 00:00:00-05:00    17.080000    17.080000    17.080000    17.080000   \n",
              "...                                ...          ...          ...          ...   \n",
              "2022-11-01 00:00:00-04:00  3901.790039  3911.790039  3843.800049  3856.100098   \n",
              "2022-11-02 00:00:00-04:00  3852.899902  3894.439941  3758.679932  3759.689941   \n",
              "2022-11-03 00:00:00-04:00  3733.250000  3750.590088  3698.149902  3719.889893   \n",
              "2022-11-04 00:00:00-04:00  3766.979980  3796.340088  3708.840088  3770.550049   \n",
              "2022-11-07 00:00:00-05:00  3780.709961  3791.520020  3764.699951  3777.459961   \n",
              "\n",
              "                               Volume     Tomorrow  Target  \n",
              "Date                                                        \n",
              "1950-01-03 00:00:00-05:00     1260000    16.850000       1  \n",
              "1950-01-04 00:00:00-05:00     1890000    16.930000       1  \n",
              "1950-01-05 00:00:00-05:00     2550000    16.980000       1  \n",
              "1950-01-06 00:00:00-05:00     2010000    17.080000       1  \n",
              "1950-01-09 00:00:00-05:00     2520000    17.030001       0  \n",
              "...                               ...          ...     ...  \n",
              "2022-11-01 00:00:00-04:00  4481210000  3759.689941       0  \n",
              "2022-11-02 00:00:00-04:00  4899000000  3719.889893       0  \n",
              "2022-11-03 00:00:00-04:00  4625290000  3770.550049       1  \n",
              "2022-11-04 00:00:00-04:00           0  3777.459961       1  \n",
              "2022-11-07 00:00:00-05:00   477646529          NaN       0  \n",
              "\n",
              "[18332 rows x 7 columns]"
            ],
            "text/html": [
              "\n",
              "  <div id=\"df-aaba67c6-d126-4a6e-b19d-b303ed525dd2\">\n",
              "    <div class=\"colab-df-container\">\n",
              "      <div>\n",
              "<style scoped>\n",
              "    .dataframe tbody tr th:only-of-type {\n",
              "        vertical-align: middle;\n",
              "    }\n",
              "\n",
              "    .dataframe tbody tr th {\n",
              "        vertical-align: top;\n",
              "    }\n",
              "\n",
              "    .dataframe thead th {\n",
              "        text-align: right;\n",
              "    }\n",
              "</style>\n",
              "<table border=\"1\" class=\"dataframe\">\n",
              "  <thead>\n",
              "    <tr style=\"text-align: right;\">\n",
              "      <th></th>\n",
              "      <th>Open</th>\n",
              "      <th>High</th>\n",
              "      <th>Low</th>\n",
              "      <th>Close</th>\n",
              "      <th>Volume</th>\n",
              "      <th>Tomorrow</th>\n",
              "      <th>Target</th>\n",
              "    </tr>\n",
              "    <tr>\n",
              "      <th>Date</th>\n",
              "      <th></th>\n",
              "      <th></th>\n",
              "      <th></th>\n",
              "      <th></th>\n",
              "      <th></th>\n",
              "      <th></th>\n",
              "      <th></th>\n",
              "    </tr>\n",
              "  </thead>\n",
              "  <tbody>\n",
              "    <tr>\n",
              "      <th>1950-01-03 00:00:00-05:00</th>\n",
              "      <td>16.660000</td>\n",
              "      <td>16.660000</td>\n",
              "      <td>16.660000</td>\n",
              "      <td>16.660000</td>\n",
              "      <td>1260000</td>\n",
              "      <td>16.850000</td>\n",
              "      <td>1</td>\n",
              "    </tr>\n",
              "    <tr>\n",
              "      <th>1950-01-04 00:00:00-05:00</th>\n",
              "      <td>16.850000</td>\n",
              "      <td>16.850000</td>\n",
              "      <td>16.850000</td>\n",
              "      <td>16.850000</td>\n",
              "      <td>1890000</td>\n",
              "      <td>16.930000</td>\n",
              "      <td>1</td>\n",
              "    </tr>\n",
              "    <tr>\n",
              "      <th>1950-01-05 00:00:00-05:00</th>\n",
              "      <td>16.930000</td>\n",
              "      <td>16.930000</td>\n",
              "      <td>16.930000</td>\n",
              "      <td>16.930000</td>\n",
              "      <td>2550000</td>\n",
              "      <td>16.980000</td>\n",
              "      <td>1</td>\n",
              "    </tr>\n",
              "    <tr>\n",
              "      <th>1950-01-06 00:00:00-05:00</th>\n",
              "      <td>16.980000</td>\n",
              "      <td>16.980000</td>\n",
              "      <td>16.980000</td>\n",
              "      <td>16.980000</td>\n",
              "      <td>2010000</td>\n",
              "      <td>17.080000</td>\n",
              "      <td>1</td>\n",
              "    </tr>\n",
              "    <tr>\n",
              "      <th>1950-01-09 00:00:00-05:00</th>\n",
              "      <td>17.080000</td>\n",
              "      <td>17.080000</td>\n",
              "      <td>17.080000</td>\n",
              "      <td>17.080000</td>\n",
              "      <td>2520000</td>\n",
              "      <td>17.030001</td>\n",
              "      <td>0</td>\n",
              "    </tr>\n",
              "    <tr>\n",
              "      <th>...</th>\n",
              "      <td>...</td>\n",
              "      <td>...</td>\n",
              "      <td>...</td>\n",
              "      <td>...</td>\n",
              "      <td>...</td>\n",
              "      <td>...</td>\n",
              "      <td>...</td>\n",
              "    </tr>\n",
              "    <tr>\n",
              "      <th>2022-11-01 00:00:00-04:00</th>\n",
              "      <td>3901.790039</td>\n",
              "      <td>3911.790039</td>\n",
              "      <td>3843.800049</td>\n",
              "      <td>3856.100098</td>\n",
              "      <td>4481210000</td>\n",
              "      <td>3759.689941</td>\n",
              "      <td>0</td>\n",
              "    </tr>\n",
              "    <tr>\n",
              "      <th>2022-11-02 00:00:00-04:00</th>\n",
              "      <td>3852.899902</td>\n",
              "      <td>3894.439941</td>\n",
              "      <td>3758.679932</td>\n",
              "      <td>3759.689941</td>\n",
              "      <td>4899000000</td>\n",
              "      <td>3719.889893</td>\n",
              "      <td>0</td>\n",
              "    </tr>\n",
              "    <tr>\n",
              "      <th>2022-11-03 00:00:00-04:00</th>\n",
              "      <td>3733.250000</td>\n",
              "      <td>3750.590088</td>\n",
              "      <td>3698.149902</td>\n",
              "      <td>3719.889893</td>\n",
              "      <td>4625290000</td>\n",
              "      <td>3770.550049</td>\n",
              "      <td>1</td>\n",
              "    </tr>\n",
              "    <tr>\n",
              "      <th>2022-11-04 00:00:00-04:00</th>\n",
              "      <td>3766.979980</td>\n",
              "      <td>3796.340088</td>\n",
              "      <td>3708.840088</td>\n",
              "      <td>3770.550049</td>\n",
              "      <td>0</td>\n",
              "      <td>3777.459961</td>\n",
              "      <td>1</td>\n",
              "    </tr>\n",
              "    <tr>\n",
              "      <th>2022-11-07 00:00:00-05:00</th>\n",
              "      <td>3780.709961</td>\n",
              "      <td>3791.520020</td>\n",
              "      <td>3764.699951</td>\n",
              "      <td>3777.459961</td>\n",
              "      <td>477646529</td>\n",
              "      <td>NaN</td>\n",
              "      <td>0</td>\n",
              "    </tr>\n",
              "  </tbody>\n",
              "</table>\n",
              "<p>18332 rows × 7 columns</p>\n",
              "</div>\n",
              "      <button class=\"colab-df-convert\" onclick=\"convertToInteractive('df-aaba67c6-d126-4a6e-b19d-b303ed525dd2')\"\n",
              "              title=\"Convert this dataframe to an interactive table.\"\n",
              "              style=\"display:none;\">\n",
              "        \n",
              "  <svg xmlns=\"http://www.w3.org/2000/svg\" height=\"24px\"viewBox=\"0 0 24 24\"\n",
              "       width=\"24px\">\n",
              "    <path d=\"M0 0h24v24H0V0z\" fill=\"none\"/>\n",
              "    <path d=\"M18.56 5.44l.94 2.06.94-2.06 2.06-.94-2.06-.94-.94-2.06-.94 2.06-2.06.94zm-11 1L8.5 8.5l.94-2.06 2.06-.94-2.06-.94L8.5 2.5l-.94 2.06-2.06.94zm10 10l.94 2.06.94-2.06 2.06-.94-2.06-.94-.94-2.06-.94 2.06-2.06.94z\"/><path d=\"M17.41 7.96l-1.37-1.37c-.4-.4-.92-.59-1.43-.59-.52 0-1.04.2-1.43.59L10.3 9.45l-7.72 7.72c-.78.78-.78 2.05 0 2.83L4 21.41c.39.39.9.59 1.41.59.51 0 1.02-.2 1.41-.59l7.78-7.78 2.81-2.81c.8-.78.8-2.07 0-2.86zM5.41 20L4 18.59l7.72-7.72 1.47 1.35L5.41 20z\"/>\n",
              "  </svg>\n",
              "      </button>\n",
              "      \n",
              "  <style>\n",
              "    .colab-df-container {\n",
              "      display:flex;\n",
              "      flex-wrap:wrap;\n",
              "      gap: 12px;\n",
              "    }\n",
              "\n",
              "    .colab-df-convert {\n",
              "      background-color: #E8F0FE;\n",
              "      border: none;\n",
              "      border-radius: 50%;\n",
              "      cursor: pointer;\n",
              "      display: none;\n",
              "      fill: #1967D2;\n",
              "      height: 32px;\n",
              "      padding: 0 0 0 0;\n",
              "      width: 32px;\n",
              "    }\n",
              "\n",
              "    .colab-df-convert:hover {\n",
              "      background-color: #E2EBFA;\n",
              "      box-shadow: 0px 1px 2px rgba(60, 64, 67, 0.3), 0px 1px 3px 1px rgba(60, 64, 67, 0.15);\n",
              "      fill: #174EA6;\n",
              "    }\n",
              "\n",
              "    [theme=dark] .colab-df-convert {\n",
              "      background-color: #3B4455;\n",
              "      fill: #D2E3FC;\n",
              "    }\n",
              "\n",
              "    [theme=dark] .colab-df-convert:hover {\n",
              "      background-color: #434B5C;\n",
              "      box-shadow: 0px 1px 3px 1px rgba(0, 0, 0, 0.15);\n",
              "      filter: drop-shadow(0px 1px 2px rgba(0, 0, 0, 0.3));\n",
              "      fill: #FFFFFF;\n",
              "    }\n",
              "  </style>\n",
              "\n",
              "      <script>\n",
              "        const buttonEl =\n",
              "          document.querySelector('#df-aaba67c6-d126-4a6e-b19d-b303ed525dd2 button.colab-df-convert');\n",
              "        buttonEl.style.display =\n",
              "          google.colab.kernel.accessAllowed ? 'block' : 'none';\n",
              "\n",
              "        async function convertToInteractive(key) {\n",
              "          const element = document.querySelector('#df-aaba67c6-d126-4a6e-b19d-b303ed525dd2');\n",
              "          const dataTable =\n",
              "            await google.colab.kernel.invokeFunction('convertToInteractive',\n",
              "                                                     [key], {});\n",
              "          if (!dataTable) return;\n",
              "\n",
              "          const docLinkHtml = 'Like what you see? Visit the ' +\n",
              "            '<a target=\"_blank\" href=https://colab.research.google.com/notebooks/data_table.ipynb>data table notebook</a>'\n",
              "            + ' to learn more about interactive tables.';\n",
              "          element.innerHTML = '';\n",
              "          dataTable['output_type'] = 'display_data';\n",
              "          await google.colab.output.renderOutput(dataTable, element);\n",
              "          const docLink = document.createElement('div');\n",
              "          docLink.innerHTML = docLinkHtml;\n",
              "          element.appendChild(docLink);\n",
              "        }\n",
              "      </script>\n",
              "    </div>\n",
              "  </div>\n",
              "  "
            ]
          },
          "metadata": {},
          "execution_count": 10
        }
      ]
    },
    {
      "cell_type": "markdown",
      "source": [
        "Old data may not always be useful in predicting stocks. This step removes all data before 1990-01-01"
      ],
      "metadata": {
        "id": "Q9TB2tP4CafM"
      }
    },
    {
      "cell_type": "code",
      "source": [
        "sp500 = sp500.loc[\"1990-01-01\":].copy()"
      ],
      "metadata": {
        "id": "_IgjVuRbCkLv"
      },
      "execution_count": 11,
      "outputs": []
    },
    {
      "cell_type": "markdown",
      "source": [
        "Setting up machine learning model (Random Forest Classifier).\n",
        "Using Random Forest because it's hard for them to overfit. Can pick up linear tendencies within the data and they run relatively fast."
      ],
      "metadata": {
        "id": "8IBjx8jSFW3k"
      }
    },
    {
      "cell_type": "code",
      "source": [
        "from sklearn.ensemble import RandomForestClassifier\n",
        "model = RandomForestClassifier(n_estimators = 100, min_samples_split=100, random_state = 1)\n",
        "train = sp500.iloc[:-100] \n",
        "test = sp500.iloc[-100:]\n",
        "predictors = [\"Close\", \"Volume\", \"Open\", \"High\", \"Low\" ]\n",
        "model.fit(train[predictors], train[\"Target\"])"
      ],
      "metadata": {
        "colab": {
          "base_uri": "https://localhost:8080/"
        },
        "id": "HUqmp5SxFKSK",
        "outputId": "e95f3a00-40fe-4224-b997-da77f515b897"
      },
      "execution_count": 12,
      "outputs": [
        {
          "output_type": "execute_result",
          "data": {
            "text/plain": [
              "RandomForestClassifier(min_samples_split=100, random_state=1)"
            ]
          },
          "metadata": {},
          "execution_count": 12
        }
      ]
    },
    {
      "cell_type": "markdown",
      "source": [
        "Importing an accuracy metric (precision score)"
      ],
      "metadata": {
        "id": "tTj7-cyWsHZc"
      }
    },
    {
      "cell_type": "code",
      "source": [
        "from sklearn.metrics import precision_score\n",
        "preds = model.predict(test[predictors])"
      ],
      "metadata": {
        "id": "DxctQ22AKDPA"
      },
      "execution_count": 13,
      "outputs": []
    },
    {
      "cell_type": "code",
      "source": [
        "import pandas as pd\n",
        "\n",
        "preds = pd.Series(preds, index = test.index)"
      ],
      "metadata": {
        "id": "9VJjBQyEteWa"
      },
      "execution_count": 15,
      "outputs": []
    },
    {
      "cell_type": "code",
      "source": [
        "precision_score(test[\"Target\"], preds)"
      ],
      "metadata": {
        "colab": {
          "base_uri": "https://localhost:8080/"
        },
        "id": "jhcpbGT0uZKk",
        "outputId": "25910046-3670-4eb7-c5dd-804b1d650fcc"
      },
      "execution_count": 16,
      "outputs": [
        {
          "output_type": "execute_result",
          "data": {
            "text/plain": [
              "0.4225352112676056"
            ]
          },
          "metadata": {},
          "execution_count": 16
        }
      ]
    },
    {
      "cell_type": "markdown",
      "source": [
        "Time to combine the actual values with the predicted values in order to plot them"
      ],
      "metadata": {
        "id": "KM8uqgXavJFG"
      }
    },
    {
      "cell_type": "code",
      "source": [
        "combined = pd.concat([test[\"Target\"], preds], axis=1)"
      ],
      "metadata": {
        "id": "_U8Mzzyaul9D"
      },
      "execution_count": 17,
      "outputs": []
    },
    {
      "cell_type": "markdown",
      "source": [
        "Plotting the actual valuesagainst the predicted values now"
      ],
      "metadata": {
        "id": "j9Gk2wFhvy2K"
      }
    },
    {
      "cell_type": "code",
      "source": [
        "combined.plot()"
      ],
      "metadata": {
        "colab": {
          "base_uri": "https://localhost:8080/",
          "height": 294
        },
        "id": "FcqRUM6cvu9l",
        "outputId": "56aa6725-6882-4add-abb4-0013379fec3b"
      },
      "execution_count": 18,
      "outputs": [
        {
          "output_type": "execute_result",
          "data": {
            "text/plain": [
              "<matplotlib.axes._subplots.AxesSubplot at 0x7fccd02319d0>"
            ]
          },
          "metadata": {},
          "execution_count": 18
        },
        {
          "output_type": "display_data",
          "data": {
            "text/plain": [
              "<Figure size 432x288 with 1 Axes>"
            ],
            "image/png": "[encoded data removed]"
          },
          "metadata": {
            "needs_background": "light"
          }
        }
      ]
    },
    {
      "cell_type": "markdown",
      "source": [
        "Backtesting"
      ],
      "metadata": {
        "id": "l4_NYjTywIgs"
      }
    },
    {
      "cell_type": "code",
      "source": [
        "def predict( train, test, predictors, model):\n",
        "    model.fit(train[predictors], train[\"Target\"])\n",
        "    preds = model.predict(test[predictors])\n",
        "    preds = pd.Series(preds, index = test.index, name = \"Predictions\")\n",
        "    combined = pd.concat([test[\"Target\"], preds], axis = 1)\n",
        "    return combined"
      ],
      "metadata": {
        "id": "pJJSz_sywGRL"
      },
      "execution_count": 19,
      "outputs": []
    },
    {
      "cell_type": "code",
      "source": [
        "def backtest(data, model, predictors, start = 2500, step = 250):\n",
        "    all_predictions = []\n",
        "\n",
        "    for i in range(start, data.shape[0], step):\n",
        "        train = data.iloc[0:i].copy()\n",
        "        test = data.iloc[i:(i+step)].copy()\n",
        "        predictions = predict(train, test, predictors, model)\n",
        "        all_predictions.append(predictions)\n",
        "    return pd.concat(all_predictions)"
      ],
      "metadata": {
        "id": "kVJuutG2x_fE"
      },
      "execution_count": 20,
      "outputs": []
    },
    {
      "cell_type": "code",
      "source": [
        "predictions = backtest(sp500, model, predictors)"
      ],
      "metadata": {
        "id": "UX9mY7fD1wEK"
      },
      "execution_count": 21,
      "outputs": []
    },
    {
      "cell_type": "code",
      "source": [
        "predictions[\"Predictions\"].value_counts()"
      ],
      "metadata": {
        "colab": {
          "base_uri": "https://localhost:8080/"
        },
        "id": "a7LKMseCFNCe",
        "outputId": "ac96cc1c-b390-4fe5-9770-30b774f78281"
      },
      "execution_count": 22,
      "outputs": [
        {
          "output_type": "execute_result",
          "data": {
            "text/plain": [
              "0    3342\n",
              "1    2436\n",
              "Name: Predictions, dtype: int64"
            ]
          },
          "metadata": {},
          "execution_count": 22
        }
      ]
    },
    {
      "cell_type": "code",
      "source": [
        "precision_score(predictions[\"Target\"], predictions[\"Predictions\"])"
      ],
      "metadata": {
        "colab": {
          "base_uri": "https://localhost:8080/"
        },
        "id": "xpVZWXAJGjAW",
        "outputId": "e07b5958-b2f2-4190-f337-4f1cf40991c7"
      },
      "execution_count": 23,
      "outputs": [
        {
          "output_type": "execute_result",
          "data": {
            "text/plain": [
              "0.5320197044334976"
            ]
          },
          "metadata": {},
          "execution_count": 23
        }
      ]
    },
    {
      "cell_type": "code",
      "source": [
        "predictions[\"Target\"].value_counts()/ predictions.shape[0]"
      ],
      "metadata": {
        "id": "43wyi9QeG76K"
      },
      "execution_count": null,
      "outputs": []
    },
    {
      "cell_type": "code",
      "source": [
        "horizons = [2, 3, 60, 250, 1000]\n",
        "new_predictors = []\n",
        "\n",
        "for horizon in horizons:\n",
        "    rolling_averages = sp500.rolling(horizon).mean()\n",
        "\n",
        "    ratio_column = f\"Close_Ratio_{horizon}\"\n",
        "    sp500[ratio_column] = sp500[\"Close\"] / rolling_averages[\"Close\"].shift()\n",
        "\n",
        "    trend_column = f\"Trend_{horizon}\"\n",
        "    sp500[trend_column] = sp500.shift(1).rolling(horizon).sum()[\"Target\"]\n",
        "\n",
        "    new_predictors += [ratio_column, trend_column]\n"
      ],
      "metadata": {
        "id": "cN3GO2phIwTI"
      },
      "execution_count": 26,
      "outputs": []
    },
    {
      "cell_type": "code",
      "source": [
        "sp500"
      ],
      "metadata": {
        "colab": {
          "base_uri": "https://localhost:8080/",
          "height": 1000
        },
        "id": "Uu65Uhq-OCbQ",
        "outputId": "fc75d1e6-8bb4-4fa9-9f9a-5480742ad56c"
      },
      "execution_count": 27,
      "outputs": [
        {
          "output_type": "execute_result",
          "data": {
            "text/plain": [
              "                                  Open         High          Low        Close  \\\n",
              "Date                                                                            \n",
              "1990-01-02 00:00:00-05:00   353.399994   359.690002   351.980011   359.690002   \n",
              "1990-01-03 00:00:00-05:00   359.690002   360.589996   357.890015   358.760010   \n",
              "1990-01-04 00:00:00-05:00   358.760010   358.760010   352.890015   355.670013   \n",
              "1990-01-05 00:00:00-05:00   355.670013   355.670013   351.350006   352.200012   \n",
              "1990-01-08 00:00:00-05:00   352.200012   354.239990   350.540009   353.790009   \n",
              "...                                ...          ...          ...          ...   \n",
              "2022-11-01 00:00:00-04:00  3901.790039  3911.790039  3843.800049  3856.100098   \n",
              "2022-11-02 00:00:00-04:00  3852.899902  3894.439941  3758.679932  3759.689941   \n",
              "2022-11-03 00:00:00-04:00  3733.250000  3750.590088  3698.149902  3719.889893   \n",
              "2022-11-04 00:00:00-04:00  3766.979980  3796.340088  3708.840088  3770.550049   \n",
              "2022-11-07 00:00:00-05:00  3780.709961  3791.520020  3764.699951  3777.459961   \n",
              "\n",
              "                               Volume     Tomorrow  Target  Close_Ratio_2  \\\n",
              "Date                                                                        \n",
              "1990-01-02 00:00:00-05:00   162070000   358.760010       0            NaN   \n",
              "1990-01-03 00:00:00-05:00   192330000   355.670013       0            NaN   \n",
              "1990-01-04 00:00:00-05:00   177000000   352.200012       0       0.990104   \n",
              "1990-01-05 00:00:00-05:00   158530000   353.790009       1       0.985961   \n",
              "1990-01-08 00:00:00-05:00   140110000   349.619995       0       0.999590   \n",
              "...                               ...          ...     ...            ...   \n",
              "2022-11-01 00:00:00-04:00  4481210000  3759.689941       0       0.992173   \n",
              "2022-11-02 00:00:00-04:00  4899000000  3719.889893       0       0.972995   \n",
              "2022-11-03 00:00:00-04:00  4625290000  3770.550049       1       0.976889   \n",
              "2022-11-04 00:00:00-04:00           0  3777.459961       1       1.008225   \n",
              "2022-11-07 00:00:00-05:00   477646529          NaN       0       1.008608   \n",
              "\n",
              "                           Trend_2  Close_Ratio_3  Trend_3  Close_Ratio_60  \\\n",
              "Date                                                                         \n",
              "1990-01-02 00:00:00-05:00      NaN            NaN      NaN             NaN   \n",
              "1990-01-03 00:00:00-05:00      NaN            NaN      NaN             NaN   \n",
              "1990-01-04 00:00:00-05:00      0.0            NaN      NaN             NaN   \n",
              "1990-01-05 00:00:00-05:00      0.0       0.983689      0.0             NaN   \n",
              "1990-01-08 00:00:00-05:00      1.0       0.995069      1.0             NaN   \n",
              "...                            ...            ...      ...             ...   \n",
              "2022-11-01 00:00:00-04:00      0.0       0.998960      1.0        0.988352   \n",
              "2022-11-02 00:00:00-04:00      0.0       0.969897      0.0        0.964811   \n",
              "2022-11-03 00:00:00-04:00      0.0       0.971439      0.0        0.956081   \n",
              "2022-11-04 00:00:00-04:00      1.0       0.997880      1.0        0.971142   \n",
              "2022-11-07 00:00:00-05:00      2.0       1.007311      2.0        0.974749   \n",
              "\n",
              "                           Trend_60  Close_Ratio_250  Trend_250  \\\n",
              "Date                                                              \n",
              "1990-01-02 00:00:00-05:00       NaN              NaN        NaN   \n",
              "1990-01-03 00:00:00-05:00       NaN              NaN        NaN   \n",
              "1990-01-04 00:00:00-05:00       NaN              NaN        NaN   \n",
              "1990-01-05 00:00:00-05:00       NaN              NaN        NaN   \n",
              "1990-01-08 00:00:00-05:00       NaN              NaN        NaN   \n",
              "...                             ...              ...        ...   \n",
              "2022-11-01 00:00:00-04:00      24.0         0.912975      112.0   \n",
              "2022-11-02 00:00:00-04:00      24.0         0.890828      111.0   \n",
              "2022-11-03 00:00:00-04:00      23.0         0.882167      110.0   \n",
              "2022-11-04 00:00:00-04:00      24.0         0.895011      110.0   \n",
              "2022-11-07 00:00:00-05:00      24.0         0.897445      111.0   \n",
              "\n",
              "                           Close_Ratio_1000  Trend_1000  \n",
              "Date                                                     \n",
              "1990-01-02 00:00:00-05:00               NaN         NaN  \n",
              "1990-01-03 00:00:00-05:00               NaN         NaN  \n",
              "1990-01-04 00:00:00-05:00               NaN         NaN  \n",
              "1990-01-05 00:00:00-05:00               NaN         NaN  \n",
              "1990-01-08 00:00:00-05:00               NaN         NaN  \n",
              "...                                     ...         ...  \n",
              "2022-11-01 00:00:00-04:00          1.077464       543.0  \n",
              "2022-11-02 00:00:00-04:00          1.050210       543.0  \n",
              "2022-11-03 00:00:00-04:00          1.038793       543.0  \n",
              "2022-11-04 00:00:00-04:00          1.052647       544.0  \n",
              "2022-11-07 00:00:00-05:00          1.054261       544.0  \n",
              "\n",
              "[8278 rows x 17 columns]"
            ],
            "text/html": [
              "\n",
              "  <div id=\"df-d0d434d1-1289-4ed4-b7b7-49696e25feb9\">\n",
              "    <div class=\"colab-df-container\">\n",
              "      <div>\n",
              "<style scoped>\n",
              "    .dataframe tbody tr th:only-of-type {\n",
              "        vertical-align: middle;\n",
              "    }\n",
              "\n",
              "    .dataframe tbody tr th {\n",
              "        vertical-align: top;\n",
              "    }\n",
              "\n",
              "    .dataframe thead th {\n",
              "        text-align: right;\n",
              "    }\n",
              "</style>\n",
              "<table border=\"1\" class=\"dataframe\">\n",
              "  <thead>\n",
              "    <tr style=\"text-align: right;\">\n",
              "      <th></th>\n",
              "      <th>Open</th>\n",
              "      <th>High</th>\n",
              "      <th>Low</th>\n",
              "      <th>Close</th>\n",
              "      <th>Volume</th>\n",
              "      <th>Tomorrow</th>\n",
              "      <th>Target</th>\n",
              "      <th>Close_Ratio_2</th>\n",
              "      <th>Trend_2</th>\n",
              "      <th>Close_Ratio_3</th>\n",
              "      <th>Trend_3</th>\n",
              "      <th>Close_Ratio_60</th>\n",
              "      <th>Trend_60</th>\n",
              "      <th>Close_Ratio_250</th>\n",
              "      <th>Trend_250</th>\n",
              "      <th>Close_Ratio_1000</th>\n",
              "      <th>Trend_1000</th>\n",
              "    </tr>\n",
              "    <tr>\n",
              "      <th>Date</th>\n",
              "      <th></th>\n",
              "      <th></th>\n",
              "      <th></th>\n",
              "      <th></th>\n",
              "      <th></th>\n",
              "      <th></th>\n",
              "      <th></th>\n",
              "      <th></th>\n",
              "      <th></th>\n",
              "      <th></th>\n",
              "      <th></th>\n",
              "      <th></th>\n",
              "      <th></th>\n",
              "      <th></th>\n",
              "      <th></th>\n",
              "      <th></th>\n",
              "      <th></th>\n",
              "    </tr>\n",
              "  </thead>\n",
              "  <tbody>\n",
              "    <tr>\n",
              "      <th>1990-01-02 00:00:00-05:00</th>\n",
              "      <td>353.399994</td>\n",
              "      <td>359.690002</td>\n",
              "      <td>351.980011</td>\n",
              "      <td>359.690002</td>\n",
              "      <td>162070000</td>\n",
              "      <td>358.760010</td>\n",
              "      <td>0</td>\n",
              "      <td>NaN</td>\n",
              "      <td>NaN</td>\n",
              "      <td>NaN</td>\n",
              "      <td>NaN</td>\n",
              "      <td>NaN</td>\n",
              "      <td>NaN</td>\n",
              "      <td>NaN</td>\n",
              "      <td>NaN</td>\n",
              "      <td>NaN</td>\n",
              "      <td>NaN</td>\n",
              "    </tr>\n",
              "    <tr>\n",
              "      <th>1990-01-03 00:00:00-05:00</th>\n",
              "      <td>359.690002</td>\n",
              "      <td>360.589996</td>\n",
              "      <td>357.890015</td>\n",
              "      <td>358.760010</td>\n",
              "      <td>192330000</td>\n",
              "      <td>355.670013</td>\n",
              "      <td>0</td>\n",
              "      <td>NaN</td>\n",
              "      <td>NaN</td>\n",
              "      <td>NaN</td>\n",
              "      <td>NaN</td>\n",
              "      <td>NaN</td>\n",
              "      <td>NaN</td>\n",
              "      <td>NaN</td>\n",
              "      <td>NaN</td>\n",
              "      <td>NaN</td>\n",
              "      <td>NaN</td>\n",
              "    </tr>\n",
              "    <tr>\n",
              "      <th>1990-01-04 00:00:00-05:00</th>\n",
              "      <td>358.760010</td>\n",
              "      <td>358.760010</td>\n",
              "      <td>352.890015</td>\n",
              "      <td>355.670013</td>\n",
              "      <td>177000000</td>\n",
              "      <td>352.200012</td>\n",
              "      <td>0</td>\n",
              "      <td>0.990104</td>\n",
              "      <td>0.0</td>\n",
              "      <td>NaN</td>\n",
              "      <td>NaN</td>\n",
              "      <td>NaN</td>\n",
              "      <td>NaN</td>\n",
              "      <td>NaN</td>\n",
              "      <td>NaN</td>\n",
              "      <td>NaN</td>\n",
              "      <td>NaN</td>\n",
              "    </tr>\n",
              "    <tr>\n",
              "      <th>1990-01-05 00:00:00-05:00</th>\n",
              "      <td>355.670013</td>\n",
              "      <td>355.670013</td>\n",
              "      <td>351.350006</td>\n",
              "      <td>352.200012</td>\n",
              "      <td>158530000</td>\n",
              "      <td>353.790009</td>\n",
              "      <td>1</td>\n",
              "      <td>0.985961</td>\n",
              "      <td>0.0</td>\n",
              "      <td>0.983689</td>\n",
              "      <td>0.0</td>\n",
              "      <td>NaN</td>\n",
              "      <td>NaN</td>\n",
              "      <td>NaN</td>\n",
              "      <td>NaN</td>\n",
              "      <td>NaN</td>\n",
              "      <td>NaN</td>\n",
              "    </tr>\n",
              "    <tr>\n",
              "      <th>1990-01-08 00:00:00-05:00</th>\n",
              "      <td>352.200012</td>\n",
              "      <td>354.239990</td>\n",
              "      <td>350.540009</td>\n",
              "      <td>353.790009</td>\n",
              "      <td>140110000</td>\n",
              "      <td>349.619995</td>\n",
              "      <td>0</td>\n",
              "      <td>0.999590</td>\n",
              "      <td>1.0</td>\n",
              "      <td>0.995069</td>\n",
              "      <td>1.0</td>\n",
              "      <td>NaN</td>\n",
              "      <td>NaN</td>\n",
              "      <td>NaN</td>\n",
              "      <td>NaN</td>\n",
              "      <td>NaN</td>\n",
              "      <td>NaN</td>\n",
              "    </tr>\n",
              "    <tr>\n",
              "      <th>...</th>\n",
              "      <td>...</td>\n",
              "      <td>...</td>\n",
              "      <td>...</td>\n",
              "      <td>...</td>\n",
              "      <td>...</td>\n",
              "      <td>...</td>\n",
              "      <td>...</td>\n",
              "      <td>...</td>\n",
              "      <td>...</td>\n",
              "      <td>...</td>\n",
              "      <td>...</td>\n",
              "      <td>...</td>\n",
              "      <td>...</td>\n",
              "      <td>...</td>\n",
              "      <td>...</td>\n",
              "      <td>...</td>\n",
              "      <td>...</td>\n",
              "    </tr>\n",
              "    <tr>\n",
              "      <th>2022-11-01 00:00:00-04:00</th>\n",
              "      <td>3901.790039</td>\n",
              "      <td>3911.790039</td>\n",
              "      <td>3843.800049</td>\n",
              "      <td>3856.100098</td>\n",
              "      <td>4481210000</td>\n",
              "      <td>3759.689941</td>\n",
              "      <td>0</td>\n",
              "      <td>0.992173</td>\n",
              "      <td>0.0</td>\n",
              "      <td>0.998960</td>\n",
              "      <td>1.0</td>\n",
              "      <td>0.988352</td>\n",
              "      <td>24.0</td>\n",
              "      <td>0.912975</td>\n",
              "      <td>112.0</td>\n",
              "      <td>1.077464</td>\n",
              "      <td>543.0</td>\n",
              "    </tr>\n",
              "    <tr>\n",
              "      <th>2022-11-02 00:00:00-04:00</th>\n",
              "      <td>3852.899902</td>\n",
              "      <td>3894.439941</td>\n",
              "      <td>3758.679932</td>\n",
              "      <td>3759.689941</td>\n",
              "      <td>4899000000</td>\n",
              "      <td>3719.889893</td>\n",
              "      <td>0</td>\n",
              "      <td>0.972995</td>\n",
              "      <td>0.0</td>\n",
              "      <td>0.969897</td>\n",
              "      <td>0.0</td>\n",
              "      <td>0.964811</td>\n",
              "      <td>24.0</td>\n",
              "      <td>0.890828</td>\n",
              "      <td>111.0</td>\n",
              "      <td>1.050210</td>\n",
              "      <td>543.0</td>\n",
              "    </tr>\n",
              "    <tr>\n",
              "      <th>2022-11-03 00:00:00-04:00</th>\n",
              "      <td>3733.250000</td>\n",
              "      <td>3750.590088</td>\n",
              "      <td>3698.149902</td>\n",
              "      <td>3719.889893</td>\n",
              "      <td>4625290000</td>\n",
              "      <td>3770.550049</td>\n",
              "      <td>1</td>\n",
              "      <td>0.976889</td>\n",
              "      <td>0.0</td>\n",
              "      <td>0.971439</td>\n",
              "      <td>0.0</td>\n",
              "      <td>0.956081</td>\n",
              "      <td>23.0</td>\n",
              "      <td>0.882167</td>\n",
              "      <td>110.0</td>\n",
              "      <td>1.038793</td>\n",
              "      <td>543.0</td>\n",
              "    </tr>\n",
              "    <tr>\n",
              "      <th>2022-11-04 00:00:00-04:00</th>\n",
              "      <td>3766.979980</td>\n",
              "      <td>3796.340088</td>\n",
              "      <td>3708.840088</td>\n",
              "      <td>3770.550049</td>\n",
              "      <td>0</td>\n",
              "      <td>3777.459961</td>\n",
              "      <td>1</td>\n",
              "      <td>1.008225</td>\n",
              "      <td>1.0</td>\n",
              "      <td>0.997880</td>\n",
              "      <td>1.0</td>\n",
              "      <td>0.971142</td>\n",
              "      <td>24.0</td>\n",
              "      <td>0.895011</td>\n",
              "      <td>110.0</td>\n",
              "      <td>1.052647</td>\n",
              "      <td>544.0</td>\n",
              "    </tr>\n",
              "    <tr>\n",
              "      <th>2022-11-07 00:00:00-05:00</th>\n",
              "      <td>3780.709961</td>\n",
              "      <td>3791.520020</td>\n",
              "      <td>3764.699951</td>\n",
              "      <td>3777.459961</td>\n",
              "      <td>477646529</td>\n",
              "      <td>NaN</td>\n",
              "      <td>0</td>\n",
              "      <td>1.008608</td>\n",
              "      <td>2.0</td>\n",
              "      <td>1.007311</td>\n",
              "      <td>2.0</td>\n",
              "      <td>0.974749</td>\n",
              "      <td>24.0</td>\n",
              "      <td>0.897445</td>\n",
              "      <td>111.0</td>\n",
              "      <td>1.054261</td>\n",
              "      <td>544.0</td>\n",
              "    </tr>\n",
              "  </tbody>\n",
              "</table>\n",
              "<p>8278 rows × 17 columns</p>\n",
              "</div>\n",
              "      <button class=\"colab-df-convert\" onclick=\"convertToInteractive('df-d0d434d1-1289-4ed4-b7b7-49696e25feb9')\"\n",
              "              title=\"Convert this dataframe to an interactive table.\"\n",
              "              style=\"display:none;\">\n",
              "        \n",
              "  <svg xmlns=\"http://www.w3.org/2000/svg\" height=\"24px\"viewBox=\"0 0 24 24\"\n",
              "       width=\"24px\">\n",
              "    <path d=\"M0 0h24v24H0V0z\" fill=\"none\"/>\n",
              "    <path d=\"M18.56 5.44l.94 2.06.94-2.06 2.06-.94-2.06-.94-.94-2.06-.94 2.06-2.06.94zm-11 1L8.5 8.5l.94-2.06 2.06-.94-2.06-.94L8.5 2.5l-.94 2.06-2.06.94zm10 10l.94 2.06.94-2.06 2.06-.94-2.06-.94-.94-2.06-.94 2.06-2.06.94z\"/><path d=\"M17.41 7.96l-1.37-1.37c-.4-.4-.92-.59-1.43-.59-.52 0-1.04.2-1.43.59L10.3 9.45l-7.72 7.72c-.78.78-.78 2.05 0 2.83L4 21.41c.39.39.9.59 1.41.59.51 0 1.02-.2 1.41-.59l7.78-7.78 2.81-2.81c.8-.78.8-2.07 0-2.86zM5.41 20L4 18.59l7.72-7.72 1.47 1.35L5.41 20z\"/>\n",
              "  </svg>\n",
              "      </button>\n",
              "      \n",
              "  <style>\n",
              "    .colab-df-container {\n",
              "      display:flex;\n",
              "      flex-wrap:wrap;\n",
              "      gap: 12px;\n",
              "    }\n",
              "\n",
              "    .colab-df-convert {\n",
              "      background-color: #E8F0FE;\n",
              "      border: none;\n",
              "      border-radius: 50%;\n",
              "      cursor: pointer;\n",
              "      display: none;\n",
              "      fill: #1967D2;\n",
              "      height: 32px;\n",
              "      padding: 0 0 0 0;\n",
              "      width: 32px;\n",
              "    }\n",
              "\n",
              "    .colab-df-convert:hover {\n",
              "      background-color: #E2EBFA;\n",
              "      box-shadow: 0px 1px 2px rgba(60, 64, 67, 0.3), 0px 1px 3px 1px rgba(60, 64, 67, 0.15);\n",
              "      fill: #174EA6;\n",
              "    }\n",
              "\n",
              "    [theme=dark] .colab-df-convert {\n",
              "      background-color: #3B4455;\n",
              "      fill: #D2E3FC;\n",
              "    }\n",
              "\n",
              "    [theme=dark] .colab-df-convert:hover {\n",
              "      background-color: #434B5C;\n",
              "      box-shadow: 0px 1px 3px 1px rgba(0, 0, 0, 0.15);\n",
              "      filter: drop-shadow(0px 1px 2px rgba(0, 0, 0, 0.3));\n",
              "      fill: #FFFFFF;\n",
              "    }\n",
              "  </style>\n",
              "\n",
              "      <script>\n",
              "        const buttonEl =\n",
              "          document.querySelector('#df-d0d434d1-1289-4ed4-b7b7-49696e25feb9 button.colab-df-convert');\n",
              "        buttonEl.style.display =\n",
              "          google.colab.kernel.accessAllowed ? 'block' : 'none';\n",
              "\n",
              "        async function convertToInteractive(key) {\n",
              "          const element = document.querySelector('#df-d0d434d1-1289-4ed4-b7b7-49696e25feb9');\n",
              "          const dataTable =\n",
              "            await google.colab.kernel.invokeFunction('convertToInteractive',\n",
              "                                                     [key], {});\n",
              "          if (!dataTable) return;\n",
              "\n",
              "          const docLinkHtml = 'Like what you see? Visit the ' +\n",
              "            '<a target=\"_blank\" href=https://colab.research.google.com/notebooks/data_table.ipynb>data table notebook</a>'\n",
              "            + ' to learn more about interactive tables.';\n",
              "          element.innerHTML = '';\n",
              "          dataTable['output_type'] = 'display_data';\n",
              "          await google.colab.output.renderOutput(dataTable, element);\n",
              "          const docLink = document.createElement('div');\n",
              "          docLink.innerHTML = docLinkHtml;\n",
              "          element.appendChild(docLink);\n",
              "        }\n",
              "      </script>\n",
              "    </div>\n",
              "  </div>\n",
              "  "
            ]
          },
          "metadata": {},
          "execution_count": 27
        }
      ]
    },
    {
      "cell_type": "code",
      "source": [
        "sp500 = sp500.dropna()"
      ],
      "metadata": {
        "id": "68cb5ojUQpFS"
      },
      "execution_count": 28,
      "outputs": []
    },
    {
      "cell_type": "code",
      "source": [
        "sp500"
      ],
      "metadata": {
        "colab": {
          "base_uri": "https://localhost:8080/",
          "height": 1000
        },
        "id": "vibGbrLETVuC",
        "outputId": "dcaeddc5-f5ff-42ff-bc88-c9fec23dcb96"
      },
      "execution_count": 29,
      "outputs": [
        {
          "output_type": "execute_result",
          "data": {
            "text/plain": [
              "                                  Open         High          Low        Close  \\\n",
              "Date                                                                            \n",
              "1993-12-14 00:00:00-05:00   465.730011   466.119995   462.459991   463.059998   \n",
              "1993-12-15 00:00:00-05:00   463.059998   463.690002   461.839996   461.839996   \n",
              "1993-12-16 00:00:00-05:00   461.859985   463.980011   461.859985   463.339996   \n",
              "1993-12-17 00:00:00-05:00   463.339996   466.380005   463.339996   466.380005   \n",
              "1993-12-20 00:00:00-05:00   466.380005   466.899994   465.529999   465.850006   \n",
              "...                                ...          ...          ...          ...   \n",
              "2022-10-31 00:00:00-04:00  3881.850098  3893.729980  3863.179932  3871.979980   \n",
              "2022-11-01 00:00:00-04:00  3901.790039  3911.790039  3843.800049  3856.100098   \n",
              "2022-11-02 00:00:00-04:00  3852.899902  3894.439941  3758.679932  3759.689941   \n",
              "2022-11-03 00:00:00-04:00  3733.250000  3750.590088  3698.149902  3719.889893   \n",
              "2022-11-04 00:00:00-04:00  3766.979980  3796.340088  3708.840088  3770.550049   \n",
              "\n",
              "                               Volume     Tomorrow  Target  Close_Ratio_2  \\\n",
              "Date                                                                        \n",
              "1993-12-14 00:00:00-05:00   275050000   461.839996       0       0.996224   \n",
              "1993-12-15 00:00:00-05:00   331770000   463.339996       1       0.994530   \n",
              "1993-12-16 00:00:00-05:00   284620000   466.380005       1       1.001925   \n",
              "1993-12-17 00:00:00-05:00   363750000   465.850006       0       1.008193   \n",
              "1993-12-20 00:00:00-05:00   255900000   465.299988       0       1.002130   \n",
              "...                               ...          ...     ...            ...   \n",
              "2022-10-31 00:00:00-04:00  4820620000  3856.100098       0       1.004618   \n",
              "2022-11-01 00:00:00-04:00  4481210000  3759.689941       0       0.992173   \n",
              "2022-11-02 00:00:00-04:00  4899000000  3719.889893       0       0.972995   \n",
              "2022-11-03 00:00:00-04:00  4625290000  3770.550049       1       0.976889   \n",
              "2022-11-04 00:00:00-04:00           0  3777.459961       1       1.008225   \n",
              "\n",
              "                           Trend_2  Close_Ratio_3  Trend_3  Close_Ratio_60  \\\n",
              "Date                                                                         \n",
              "1993-12-14 00:00:00-05:00      1.0       0.996678      1.0        1.000572   \n",
              "1993-12-15 00:00:00-05:00      0.0       0.994852      1.0        0.997648   \n",
              "1993-12-16 00:00:00-05:00      1.0       0.999583      1.0        1.000568   \n",
              "1993-12-17 00:00:00-05:00      2.0       1.007852      2.0        1.006874   \n",
              "1993-12-20 00:00:00-05:00      1.0       1.004305      2.0        1.005417   \n",
              "...                            ...            ...      ...             ...   \n",
              "2022-10-31 00:00:00-04:00      1.0       1.006671      1.0        0.991265   \n",
              "2022-11-01 00:00:00-04:00      0.0       0.998960      1.0        0.988352   \n",
              "2022-11-02 00:00:00-04:00      0.0       0.969897      0.0        0.964811   \n",
              "2022-11-03 00:00:00-04:00      0.0       0.971439      0.0        0.956081   \n",
              "2022-11-04 00:00:00-04:00      1.0       0.997880      1.0        0.971142   \n",
              "\n",
              "                           Trend_60  Close_Ratio_250  Trend_250  \\\n",
              "Date                                                              \n",
              "1993-12-14 00:00:00-05:00      32.0         1.028299      127.0   \n",
              "1993-12-15 00:00:00-05:00      32.0         1.025338      126.0   \n",
              "1993-12-16 00:00:00-05:00      32.0         1.028481      127.0   \n",
              "1993-12-17 00:00:00-05:00      32.0         1.035021      128.0   \n",
              "1993-12-20 00:00:00-05:00      32.0         1.033605      128.0   \n",
              "...                             ...              ...        ...   \n",
              "2022-10-31 00:00:00-04:00      24.0         0.916077      113.0   \n",
              "2022-11-01 00:00:00-04:00      24.0         0.912975      112.0   \n",
              "2022-11-02 00:00:00-04:00      24.0         0.890828      111.0   \n",
              "2022-11-03 00:00:00-04:00      23.0         0.882167      110.0   \n",
              "2022-11-04 00:00:00-04:00      24.0         0.895011      110.0   \n",
              "\n",
              "                           Close_Ratio_1000  Trend_1000  \n",
              "Date                                                     \n",
              "1993-12-14 00:00:00-05:00          1.176391       512.0  \n",
              "1993-12-15 00:00:00-05:00          1.172983       512.0  \n",
              "1993-12-16 00:00:00-05:00          1.176485       513.0  \n",
              "1993-12-17 00:00:00-05:00          1.183880       514.0  \n",
              "1993-12-20 00:00:00-05:00          1.182192       513.0  \n",
              "...                                     ...         ...  \n",
              "2022-10-31 00:00:00-04:00          1.082224       543.0  \n",
              "2022-11-01 00:00:00-04:00          1.077464       543.0  \n",
              "2022-11-02 00:00:00-04:00          1.050210       543.0  \n",
              "2022-11-03 00:00:00-04:00          1.038793       543.0  \n",
              "2022-11-04 00:00:00-04:00          1.052647       544.0  \n",
              "\n",
              "[7277 rows x 17 columns]"
            ],
            "text/html": [
              "\n",
              "  <div id=\"df-e7ce6e55-62f2-4e0d-8d84-55a8b6b1b211\">\n",
              "    <div class=\"colab-df-container\">\n",
              "      <div>\n",
              "<style scoped>\n",
              "    .dataframe tbody tr th:only-of-type {\n",
              "        vertical-align: middle;\n",
              "    }\n",
              "\n",
              "    .dataframe tbody tr th {\n",
              "        vertical-align: top;\n",
              "    }\n",
              "\n",
              "    .dataframe thead th {\n",
              "        text-align: right;\n",
              "    }\n",
              "</style>\n",
              "<table border=\"1\" class=\"dataframe\">\n",
              "  <thead>\n",
              "    <tr style=\"text-align: right;\">\n",
              "      <th></th>\n",
              "      <th>Open</th>\n",
              "      <th>High</th>\n",
              "      <th>Low</th>\n",
              "      <th>Close</th>\n",
              "      <th>Volume</th>\n",
              "      <th>Tomorrow</th>\n",
              "      <th>Target</th>\n",
              "      <th>Close_Ratio_2</th>\n",
              "      <th>Trend_2</th>\n",
              "      <th>Close_Ratio_3</th>\n",
              "      <th>Trend_3</th>\n",
              "      <th>Close_Ratio_60</th>\n",
              "      <th>Trend_60</th>\n",
              "      <th>Close_Ratio_250</th>\n",
              "      <th>Trend_250</th>\n",
              "      <th>Close_Ratio_1000</th>\n",
              "      <th>Trend_1000</th>\n",
              "    </tr>\n",
              "    <tr>\n",
              "      <th>Date</th>\n",
              "      <th></th>\n",
              "      <th></th>\n",
              "      <th></th>\n",
              "      <th></th>\n",
              "      <th></th>\n",
              "      <th></th>\n",
              "      <th></th>\n",
              "      <th></th>\n",
              "      <th></th>\n",
              "      <th></th>\n",
              "      <th></th>\n",
              "      <th></th>\n",
              "      <th></th>\n",
              "      <th></th>\n",
              "      <th></th>\n",
              "      <th></th>\n",
              "      <th></th>\n",
              "    </tr>\n",
              "  </thead>\n",
              "  <tbody>\n",
              "    <tr>\n",
              "      <th>1993-12-14 00:00:00-05:00</th>\n",
              "      <td>465.730011</td>\n",
              "      <td>466.119995</td>\n",
              "      <td>462.459991</td>\n",
              "      <td>463.059998</td>\n",
              "      <td>275050000</td>\n",
              "      <td>461.839996</td>\n",
              "      <td>0</td>\n",
              "      <td>0.996224</td>\n",
              "      <td>1.0</td>\n",
              "      <td>0.996678</td>\n",
              "      <td>1.0</td>\n",
              "      <td>1.000572</td>\n",
              "      <td>32.0</td>\n",
              "      <td>1.028299</td>\n",
              "      <td>127.0</td>\n",
              "      <td>1.176391</td>\n",
              "      <td>512.0</td>\n",
              "    </tr>\n",
              "    <tr>\n",
              "      <th>1993-12-15 00:00:00-05:00</th>\n",
              "      <td>463.059998</td>\n",
              "      <td>463.690002</td>\n",
              "      <td>461.839996</td>\n",
              "      <td>461.839996</td>\n",
              "      <td>331770000</td>\n",
              "      <td>463.339996</td>\n",
              "      <td>1</td>\n",
              "      <td>0.994530</td>\n",
              "      <td>0.0</td>\n",
              "      <td>0.994852</td>\n",
              "      <td>1.0</td>\n",
              "      <td>0.997648</td>\n",
              "      <td>32.0</td>\n",
              "      <td>1.025338</td>\n",
              "      <td>126.0</td>\n",
              "      <td>1.172983</td>\n",
              "      <td>512.0</td>\n",
              "    </tr>\n",
              "    <tr>\n",
              "      <th>1993-12-16 00:00:00-05:00</th>\n",
              "      <td>461.859985</td>\n",
              "      <td>463.980011</td>\n",
              "      <td>461.859985</td>\n",
              "      <td>463.339996</td>\n",
              "      <td>284620000</td>\n",
              "      <td>466.380005</td>\n",
              "      <td>1</td>\n",
              "      <td>1.001925</td>\n",
              "      <td>1.0</td>\n",
              "      <td>0.999583</td>\n",
              "      <td>1.0</td>\n",
              "      <td>1.000568</td>\n",
              "      <td>32.0</td>\n",
              "      <td>1.028481</td>\n",
              "      <td>127.0</td>\n",
              "      <td>1.176485</td>\n",
              "      <td>513.0</td>\n",
              "    </tr>\n",
              "    <tr>\n",
              "      <th>1993-12-17 00:00:00-05:00</th>\n",
              "      <td>463.339996</td>\n",
              "      <td>466.380005</td>\n",
              "      <td>463.339996</td>\n",
              "      <td>466.380005</td>\n",
              "      <td>363750000</td>\n",
              "      <td>465.850006</td>\n",
              "      <td>0</td>\n",
              "      <td>1.008193</td>\n",
              "      <td>2.0</td>\n",
              "      <td>1.007852</td>\n",
              "      <td>2.0</td>\n",
              "      <td>1.006874</td>\n",
              "      <td>32.0</td>\n",
              "      <td>1.035021</td>\n",
              "      <td>128.0</td>\n",
              "      <td>1.183880</td>\n",
              "      <td>514.0</td>\n",
              "    </tr>\n",
              "    <tr>\n",
              "      <th>1993-12-20 00:00:00-05:00</th>\n",
              "      <td>466.380005</td>\n",
              "      <td>466.899994</td>\n",
              "      <td>465.529999</td>\n",
              "      <td>465.850006</td>\n",
              "      <td>255900000</td>\n",
              "      <td>465.299988</td>\n",
              "      <td>0</td>\n",
              "      <td>1.002130</td>\n",
              "      <td>1.0</td>\n",
              "      <td>1.004305</td>\n",
              "      <td>2.0</td>\n",
              "      <td>1.005417</td>\n",
              "      <td>32.0</td>\n",
              "      <td>1.033605</td>\n",
              "      <td>128.0</td>\n",
              "      <td>1.182192</td>\n",
              "      <td>513.0</td>\n",
              "    </tr>\n",
              "    <tr>\n",
              "      <th>...</th>\n",
              "      <td>...</td>\n",
              "      <td>...</td>\n",
              "      <td>...</td>\n",
              "      <td>...</td>\n",
              "      <td>...</td>\n",
              "      <td>...</td>\n",
              "      <td>...</td>\n",
              "      <td>...</td>\n",
              "      <td>...</td>\n",
              "      <td>...</td>\n",
              "      <td>...</td>\n",
              "      <td>...</td>\n",
              "      <td>...</td>\n",
              "      <td>...</td>\n",
              "      <td>...</td>\n",
              "      <td>...</td>\n",
              "      <td>...</td>\n",
              "    </tr>\n",
              "    <tr>\n",
              "      <th>2022-10-31 00:00:00-04:00</th>\n",
              "      <td>3881.850098</td>\n",
              "      <td>3893.729980</td>\n",
              "      <td>3863.179932</td>\n",
              "      <td>3871.979980</td>\n",
              "      <td>4820620000</td>\n",
              "      <td>3856.100098</td>\n",
              "      <td>0</td>\n",
              "      <td>1.004618</td>\n",
              "      <td>1.0</td>\n",
              "      <td>1.006671</td>\n",
              "      <td>1.0</td>\n",
              "      <td>0.991265</td>\n",
              "      <td>24.0</td>\n",
              "      <td>0.916077</td>\n",
              "      <td>113.0</td>\n",
              "      <td>1.082224</td>\n",
              "      <td>543.0</td>\n",
              "    </tr>\n",
              "    <tr>\n",
              "      <th>2022-11-01 00:00:00-04:00</th>\n",
              "      <td>3901.790039</td>\n",
              "      <td>3911.790039</td>\n",
              "      <td>3843.800049</td>\n",
              "      <td>3856.100098</td>\n",
              "      <td>4481210000</td>\n",
              "      <td>3759.689941</td>\n",
              "      <td>0</td>\n",
              "      <td>0.992173</td>\n",
              "      <td>0.0</td>\n",
              "      <td>0.998960</td>\n",
              "      <td>1.0</td>\n",
              "      <td>0.988352</td>\n",
              "      <td>24.0</td>\n",
              "      <td>0.912975</td>\n",
              "      <td>112.0</td>\n",
              "      <td>1.077464</td>\n",
              "      <td>543.0</td>\n",
              "    </tr>\n",
              "    <tr>\n",
              "      <th>2022-11-02 00:00:00-04:00</th>\n",
              "      <td>3852.899902</td>\n",
              "      <td>3894.439941</td>\n",
              "      <td>3758.679932</td>\n",
              "      <td>3759.689941</td>\n",
              "      <td>4899000000</td>\n",
              "      <td>3719.889893</td>\n",
              "      <td>0</td>\n",
              "      <td>0.972995</td>\n",
              "      <td>0.0</td>\n",
              "      <td>0.969897</td>\n",
              "      <td>0.0</td>\n",
              "      <td>0.964811</td>\n",
              "      <td>24.0</td>\n",
              "      <td>0.890828</td>\n",
              "      <td>111.0</td>\n",
              "      <td>1.050210</td>\n",
              "      <td>543.0</td>\n",
              "    </tr>\n",
              "    <tr>\n",
              "      <th>2022-11-03 00:00:00-04:00</th>\n",
              "      <td>3733.250000</td>\n",
              "      <td>3750.590088</td>\n",
              "      <td>3698.149902</td>\n",
              "      <td>3719.889893</td>\n",
              "      <td>4625290000</td>\n",
              "      <td>3770.550049</td>\n",
              "      <td>1</td>\n",
              "      <td>0.976889</td>\n",
              "      <td>0.0</td>\n",
              "      <td>0.971439</td>\n",
              "      <td>0.0</td>\n",
              "      <td>0.956081</td>\n",
              "      <td>23.0</td>\n",
              "      <td>0.882167</td>\n",
              "      <td>110.0</td>\n",
              "      <td>1.038793</td>\n",
              "      <td>543.0</td>\n",
              "    </tr>\n",
              "    <tr>\n",
              "      <th>2022-11-04 00:00:00-04:00</th>\n",
              "      <td>3766.979980</td>\n",
              "      <td>3796.340088</td>\n",
              "      <td>3708.840088</td>\n",
              "      <td>3770.550049</td>\n",
              "      <td>0</td>\n",
              "      <td>3777.459961</td>\n",
              "      <td>1</td>\n",
              "      <td>1.008225</td>\n",
              "      <td>1.0</td>\n",
              "      <td>0.997880</td>\n",
              "      <td>1.0</td>\n",
              "      <td>0.971142</td>\n",
              "      <td>24.0</td>\n",
              "      <td>0.895011</td>\n",
              "      <td>110.0</td>\n",
              "      <td>1.052647</td>\n",
              "      <td>544.0</td>\n",
              "    </tr>\n",
              "  </tbody>\n",
              "</table>\n",
              "<p>7277 rows × 17 columns</p>\n",
              "</div>\n",
              "      <button class=\"colab-df-convert\" onclick=\"convertToInteractive('df-e7ce6e55-62f2-4e0d-8d84-55a8b6b1b211')\"\n",
              "              title=\"Convert this dataframe to an interactive table.\"\n",
              "              style=\"display:none;\">\n",
              "        \n",
              "  <svg xmlns=\"http://www.w3.org/2000/svg\" height=\"24px\"viewBox=\"0 0 24 24\"\n",
              "       width=\"24px\">\n",
              "    <path d=\"M0 0h24v24H0V0z\" fill=\"none\"/>\n",
              "    <path d=\"M18.56 5.44l.94 2.06.94-2.06 2.06-.94-2.06-.94-.94-2.06-.94 2.06-2.06.94zm-11 1L8.5 8.5l.94-2.06 2.06-.94-2.06-.94L8.5 2.5l-.94 2.06-2.06.94zm10 10l.94 2.06.94-2.06 2.06-.94-2.06-.94-.94-2.06-.94 2.06-2.06.94z\"/><path d=\"M17.41 7.96l-1.37-1.37c-.4-.4-.92-.59-1.43-.59-.52 0-1.04.2-1.43.59L10.3 9.45l-7.72 7.72c-.78.78-.78 2.05 0 2.83L4 21.41c.39.39.9.59 1.41.59.51 0 1.02-.2 1.41-.59l7.78-7.78 2.81-2.81c.8-.78.8-2.07 0-2.86zM5.41 20L4 18.59l7.72-7.72 1.47 1.35L5.41 20z\"/>\n",
              "  </svg>\n",
              "      </button>\n",
              "      \n",
              "  <style>\n",
              "    .colab-df-container {\n",
              "      display:flex;\n",
              "      flex-wrap:wrap;\n",
              "      gap: 12px;\n",
              "    }\n",
              "\n",
              "    .colab-df-convert {\n",
              "      background-color: #E8F0FE;\n",
              "      border: none;\n",
              "      border-radius: 50%;\n",
              "      cursor: pointer;\n",
              "      display: none;\n",
              "      fill: #1967D2;\n",
              "      height: 32px;\n",
              "      padding: 0 0 0 0;\n",
              "      width: 32px;\n",
              "    }\n",
              "\n",
              "    .colab-df-convert:hover {\n",
              "      background-color: #E2EBFA;\n",
              "      box-shadow: 0px 1px 2px rgba(60, 64, 67, 0.3), 0px 1px 3px 1px rgba(60, 64, 67, 0.15);\n",
              "      fill: #174EA6;\n",
              "    }\n",
              "\n",
              "    [theme=dark] .colab-df-convert {\n",
              "      background-color: #3B4455;\n",
              "      fill: #D2E3FC;\n",
              "    }\n",
              "\n",
              "    [theme=dark] .colab-df-convert:hover {\n",
              "      background-color: #434B5C;\n",
              "      box-shadow: 0px 1px 3px 1px rgba(0, 0, 0, 0.15);\n",
              "      filter: drop-shadow(0px 1px 2px rgba(0, 0, 0, 0.3));\n",
              "      fill: #FFFFFF;\n",
              "    }\n",
              "  </style>\n",
              "\n",
              "      <script>\n",
              "        const buttonEl =\n",
              "          document.querySelector('#df-e7ce6e55-62f2-4e0d-8d84-55a8b6b1b211 button.colab-df-convert');\n",
              "        buttonEl.style.display =\n",
              "          google.colab.kernel.accessAllowed ? 'block' : 'none';\n",
              "\n",
              "        async function convertToInteractive(key) {\n",
              "          const element = document.querySelector('#df-e7ce6e55-62f2-4e0d-8d84-55a8b6b1b211');\n",
              "          const dataTable =\n",
              "            await google.colab.kernel.invokeFunction('convertToInteractive',\n",
              "                                                     [key], {});\n",
              "          if (!dataTable) return;\n",
              "\n",
              "          const docLinkHtml = 'Like what you see? Visit the ' +\n",
              "            '<a target=\"_blank\" href=https://colab.research.google.com/notebooks/data_table.ipynb>data table notebook</a>'\n",
              "            + ' to learn more about interactive tables.';\n",
              "          element.innerHTML = '';\n",
              "          dataTable['output_type'] = 'display_data';\n",
              "          await google.colab.output.renderOutput(dataTable, element);\n",
              "          const docLink = document.createElement('div');\n",
              "          docLink.innerHTML = docLinkHtml;\n",
              "          element.appendChild(docLink);\n",
              "        }\n",
              "      </script>\n",
              "    </div>\n",
              "  </div>\n",
              "  "
            ]
          },
          "metadata": {},
          "execution_count": 29
        }
      ]
    },
    {
      "cell_type": "code",
      "source": [
        "model = RandomForestClassifier(n_estimators=200, min_samples_split=50, random_state=1)"
      ],
      "metadata": {
        "id": "ydGi955BUS6q"
      },
      "execution_count": 30,
      "outputs": []
    },
    {
      "cell_type": "code",
      "source": [
        "def predict(train, test, predictors, model):\n",
        "    model.fit(train[predictors], train[\"Target\"])\n",
        "    preds = model.predict_proba(test[predictors])[:,1]\n",
        "    preds[preds >= .6] = 1\n",
        "    preds[preds < .6] = 0\n",
        "    preds = pd.Series(preds, index=test.index, name = \"Predictions\")\n",
        "    combined = pd.concat([test[\"Target\"], preds], axis=1)\n",
        "    return combined"
      ],
      "metadata": {
        "id": "wTxXjVmsaPTI"
      },
      "execution_count": 34,
      "outputs": []
    },
    {
      "cell_type": "code",
      "source": [
        "predictions = backtest(sp500, model, new_predictors)"
      ],
      "metadata": {
        "id": "hRG31D8OdTLp"
      },
      "execution_count": 35,
      "outputs": []
    },
    {
      "cell_type": "code",
      "source": [
        "predictions[\"Predictions\"].value_counts()"
      ],
      "metadata": {
        "colab": {
          "base_uri": "https://localhost:8080/"
        },
        "id": "SBUgG5Jkd4lz",
        "outputId": "37a4a072-698a-44ba-aabd-cf09dcc00982"
      },
      "execution_count": 36,
      "outputs": [
        {
          "output_type": "execute_result",
          "data": {
            "text/plain": [
              "0.0    3903\n",
              "1.0     874\n",
              "Name: Predictions, dtype: int64"
            ]
          },
          "metadata": {},
          "execution_count": 36
        }
      ]
    },
    {
      "cell_type": "code",
      "source": [
        "precision_score(predictions[\"Target\"], predictions[\"Predictions\"])"
      ],
      "metadata": {
        "colab": {
          "base_uri": "https://localhost:8080/"
        },
        "id": "zliyjb25itOo",
        "outputId": "9e376803-b568-4a40-ab65-4b557dd2256a"
      },
      "execution_count": 38,
      "outputs": [
        {
          "output_type": "execute_result",
          "data": {
            "text/plain": [
              "0.5583524027459954"
            ]
          },
          "metadata": {},
          "execution_count": 38
        }
      ]
    }
  ]
}